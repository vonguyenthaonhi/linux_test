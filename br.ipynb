{
 "cells": [
  {
   "cell_type": "code",
   "execution_count": 54,
   "metadata": {},
   "outputs": [],
   "source": [
    "import pandas as pd"
   ]
  },
  {
   "cell_type": "code",
   "execution_count": 55,
   "metadata": {},
   "outputs": [],
   "source": [
    "data = pd.read_csv(\"C:/Users/vongu/Downloads/openaq.csv\", sep = \";\")\n"
   ]
  },
  {
   "cell_type": "code",
   "execution_count": 61,
   "metadata": {},
   "outputs": [
    {
     "data": {
      "text/html": [
       "<div>\n",
       "<style scoped>\n",
       "    .dataframe tbody tr th:only-of-type {\n",
       "        vertical-align: middle;\n",
       "    }\n",
       "\n",
       "    .dataframe tbody tr th {\n",
       "        vertical-align: top;\n",
       "    }\n",
       "\n",
       "    .dataframe thead th {\n",
       "        text-align: right;\n",
       "    }\n",
       "</style>\n",
       "<table border=\"1\" class=\"dataframe\">\n",
       "  <thead>\n",
       "    <tr style=\"text-align: right;\">\n",
       "      <th></th>\n",
       "      <th>Country Code</th>\n",
       "      <th>City</th>\n",
       "      <th>Location</th>\n",
       "      <th>Coordinates</th>\n",
       "      <th>Pollutant</th>\n",
       "      <th>Source Name</th>\n",
       "      <th>Unit</th>\n",
       "      <th>Value</th>\n",
       "      <th>Last Updated</th>\n",
       "      <th>Country Label</th>\n",
       "    </tr>\n",
       "  </thead>\n",
       "  <tbody>\n",
       "    <tr>\n",
       "      <th>0</th>\n",
       "      <td>JP</td>\n",
       "      <td>NaN</td>\n",
       "      <td>いわき市錦町重殿１５</td>\n",
       "      <td>36.891111, 140.784722</td>\n",
       "      <td>SO2</td>\n",
       "      <td>japan-soramame</td>\n",
       "      <td>ppm</td>\n",
       "      <td>0.000</td>\n",
       "      <td>2024-09-23</td>\n",
       "      <td>Japan</td>\n",
       "    </tr>\n",
       "    <tr>\n",
       "      <th>1</th>\n",
       "      <td>JP</td>\n",
       "      <td>NaN</td>\n",
       "      <td>広島市東区馬木９－１－２</td>\n",
       "      <td>34.442778, 132.536667</td>\n",
       "      <td>NOX</td>\n",
       "      <td>japan-soramame</td>\n",
       "      <td>ppm</td>\n",
       "      <td>0.000</td>\n",
       "      <td>2024-09-23</td>\n",
       "      <td>Japan</td>\n",
       "    </tr>\n",
       "    <tr>\n",
       "      <th>2</th>\n",
       "      <td>JP</td>\n",
       "      <td>NaN</td>\n",
       "      <td>敦賀市新和町２丁目３３番１号</td>\n",
       "      <td>35.625278, 136.055833</td>\n",
       "      <td>NOX</td>\n",
       "      <td>japan-soramame</td>\n",
       "      <td>ppm</td>\n",
       "      <td>0.002</td>\n",
       "      <td>2024-09-23</td>\n",
       "      <td>Japan</td>\n",
       "    </tr>\n",
       "    <tr>\n",
       "      <th>3</th>\n",
       "      <td>JP</td>\n",
       "      <td>NaN</td>\n",
       "      <td>御坊市薗字円津２５５－４</td>\n",
       "      <td>33.889167, 135.157778</td>\n",
       "      <td>NO2</td>\n",
       "      <td>japan-soramame</td>\n",
       "      <td>ppm</td>\n",
       "      <td>0.004</td>\n",
       "      <td>2024-09-23</td>\n",
       "      <td>Japan</td>\n",
       "    </tr>\n",
       "    <tr>\n",
       "      <th>4</th>\n",
       "      <td>JP</td>\n",
       "      <td>NaN</td>\n",
       "      <td>御坊市薗字円津２５５－４</td>\n",
       "      <td>33.889167, 135.157778</td>\n",
       "      <td>NOX</td>\n",
       "      <td>japan-soramame</td>\n",
       "      <td>ppm</td>\n",
       "      <td>0.005</td>\n",
       "      <td>2024-09-23</td>\n",
       "      <td>Japan</td>\n",
       "    </tr>\n",
       "  </tbody>\n",
       "</table>\n",
       "</div>"
      ],
      "text/plain": [
       "  Country Code City        Location            Coordinates Pollutant  \\\n",
       "0           JP  NaN      いわき市錦町重殿１５  36.891111, 140.784722       SO2   \n",
       "1           JP  NaN    広島市東区馬木９－１－２  34.442778, 132.536667       NOX   \n",
       "2           JP  NaN  敦賀市新和町２丁目３３番１号  35.625278, 136.055833       NOX   \n",
       "3           JP  NaN    御坊市薗字円津２５５－４  33.889167, 135.157778       NO2   \n",
       "4           JP  NaN    御坊市薗字円津２５５－４  33.889167, 135.157778       NOX   \n",
       "\n",
       "      Source Name Unit  Value Last Updated Country Label  \n",
       "0  japan-soramame  ppm  0.000   2024-09-23         Japan  \n",
       "1  japan-soramame  ppm  0.000   2024-09-23         Japan  \n",
       "2  japan-soramame  ppm  0.002   2024-09-23         Japan  \n",
       "3  japan-soramame  ppm  0.004   2024-09-23         Japan  \n",
       "4  japan-soramame  ppm  0.005   2024-09-23         Japan  "
      ]
     },
     "execution_count": 61,
     "metadata": {},
     "output_type": "execute_result"
    }
   ],
   "source": [
    "data.head()"
   ]
  },
  {
   "cell_type": "code",
   "execution_count": 57,
   "metadata": {},
   "outputs": [
    {
     "data": {
      "text/plain": [
       "Pollutant\n",
       "NO2                 11103\n",
       "PM2.5               10595\n",
       "O3                   9360\n",
       "PM10                 9215\n",
       "SO2                  8037\n",
       "CO                   5923\n",
       "NO                   4025\n",
       "NOX                  2089\n",
       "PM1                   158\n",
       "BC                    135\n",
       "TEMPERATURE           120\n",
       "RELATIVEHUMIDITY       88\n",
       "UM003                  86\n",
       "Name: count, dtype: int64"
      ]
     },
     "execution_count": 57,
     "metadata": {},
     "output_type": "execute_result"
    }
   ],
   "source": [
    "data[\"Pollutant\"].value_counts()"
   ]
  },
  {
   "cell_type": "code",
   "execution_count": 58,
   "metadata": {},
   "outputs": [
    {
     "data": {
      "text/plain": [
       "dtype('O')"
      ]
     },
     "execution_count": 58,
     "metadata": {},
     "output_type": "execute_result"
    }
   ],
   "source": [
    "data['Last Updated'].dtypes\n"
   ]
  },
  {
   "cell_type": "code",
   "execution_count": 59,
   "metadata": {},
   "outputs": [],
   "source": [
    "data['Last Updated'] = pd.to_datetime(data['Last Updated'], utc=True)\n",
    "data['Last Updated'] = data['Last Updated'].dt.strftime('%d/%m/%Y')\n",
    "data['Last Updated'] = pd.to_datetime(data['Last Updated'], format='%d/%m/%Y')"
   ]
  },
  {
   "cell_type": "code",
   "execution_count": 60,
   "metadata": {},
   "outputs": [
    {
     "data": {
      "text/plain": [
       "Country Code             object\n",
       "City                     object\n",
       "Location                 object\n",
       "Coordinates              object\n",
       "Pollutant                object\n",
       "Source Name              object\n",
       "Unit                     object\n",
       "Value                   float64\n",
       "Last Updated     datetime64[ns]\n",
       "Country Label            object\n",
       "dtype: object"
      ]
     },
     "execution_count": 60,
     "metadata": {},
     "output_type": "execute_result"
    }
   ],
   "source": [
    "data.dtypes"
   ]
  }
 ],
 "metadata": {
  "kernelspec": {
   "display_name": "Python 3",
   "language": "python",
   "name": "python3"
  },
  "language_info": {
   "codemirror_mode": {
    "name": "ipython",
    "version": 3
   },
   "file_extension": ".py",
   "mimetype": "text/x-python",
   "name": "python",
   "nbconvert_exporter": "python",
   "pygments_lexer": "ipython3",
   "version": "3.11.0"
  }
 },
 "nbformat": 4,
 "nbformat_minor": 2
}
